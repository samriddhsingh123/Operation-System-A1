{
  "cells": [
    {
      "cell_type": "markdown",
      "metadata": {
        "id": "view-in-github",
        "colab_type": "text"
      },
      "source": [
        "<a href=\"https://colab.research.google.com/github/samriddhsingh123/Operation-System-A1/blob/main/COOPRo.ipynb\" target=\"_parent\"><img src=\"https://colab.research.google.com/assets/colab-badge.svg\" alt=\"Open In Colab\"/></a>"
      ]
    },
    {
      "cell_type": "code",
      "execution_count": 118,
      "metadata": {
        "colab": {
          "base_uri": "https://localhost:8080/"
        },
        "id": "JRoCsc8QzPjg",
        "outputId": "e0e3e16a-8716-41d0-ffb0-64ae68ba30f8"
      },
      "outputs": [
        {
          "output_type": "stream",
          "name": "stdout",
          "text": [
            "Requirement already satisfied: numdifftools in /usr/local/lib/python3.7/dist-packages (0.9.40)\n",
            "Requirement already satisfied: statsmodels>=0.6 in /usr/local/lib/python3.7/dist-packages (from numdifftools) (0.10.2)\n",
            "Requirement already satisfied: algopy>=0.4 in /usr/local/lib/python3.7/dist-packages (from numdifftools) (0.5.7)\n",
            "Requirement already satisfied: scipy>=0.8 in /usr/local/lib/python3.7/dist-packages (from numdifftools) (1.4.1)\n",
            "Requirement already satisfied: numpy>=1.9 in /usr/local/lib/python3.7/dist-packages (from numdifftools) (1.21.6)\n",
            "Requirement already satisfied: patsy>=0.4.0 in /usr/local/lib/python3.7/dist-packages (from statsmodels>=0.6->numdifftools) (0.5.2)\n",
            "Requirement already satisfied: pandas>=0.19 in /usr/local/lib/python3.7/dist-packages (from statsmodels>=0.6->numdifftools) (1.3.5)\n",
            "Requirement already satisfied: pytz>=2017.3 in /usr/local/lib/python3.7/dist-packages (from pandas>=0.19->statsmodels>=0.6->numdifftools) (2022.1)\n",
            "Requirement already satisfied: python-dateutil>=2.7.3 in /usr/local/lib/python3.7/dist-packages (from pandas>=0.19->statsmodels>=0.6->numdifftools) (2.8.2)\n",
            "Requirement already satisfied: six in /usr/local/lib/python3.7/dist-packages (from patsy>=0.4.0->statsmodels>=0.6->numdifftools) (1.15.0)\n"
          ]
        }
      ],
      "source": [
        "!pip install numdifftools"
      ]
    },
    {
      "cell_type": "code",
      "execution_count": null,
      "metadata": {
        "id": "Tmfof1cLzV74"
      },
      "outputs": [],
      "source": [
        "\n",
        "import numdifftools as nd"
      ]
    },
    {
      "cell_type": "markdown",
      "source": [
        "part 1a"
      ],
      "metadata": {
        "id": "Zu7MHzvpVXTI"
      }
    },
    {
      "cell_type": "code",
      "execution_count": 139,
      "metadata": {
        "colab": {
          "base_uri": "https://localhost:8080/"
        },
        "id": "838nIRmVzNE4",
        "outputId": "ee9bf32b-19a4-4a0b-d036-44e51f1cb8a4"
      },
      "outputs": [
        {
          "output_type": "stream",
          "name": "stdout",
          "text": [
            "[[  6.]\n",
            " [-32.]]\n",
            "[[-106.]]\n",
            "-106.00000000000006\n",
            "BEFORE DESCENT [19]\n",
            "OUTPUT VALUE:  [1.171875]\n",
            "No of iterations:  1\n"
          ]
        }
      ],
      "source": [
        "import numdifftools as nd\n",
        "import numpy as np\n",
        "\n",
        "alpha=0.1\n",
        "beta=0.5\n",
        "t=1\n",
        "x=[1,-2]\n",
        "def mainFunction(x):\n",
        "    abc=x[0]**2\n",
        "    abd=x[1]**4\n",
        "    return ((3*(abc))+ abd)\n",
        "def transpose(X):\n",
        "    result = [[X[j][i] for j in range(len(X))] for i in range(len(X[0]))]\n",
        "    return result\n",
        "def matrixMul(xy,Y):\n",
        "    X = [[xy[j][i] for j in range(len(xy))] for i in range(len(xy[0]))]\n",
        "    result = [[sum(a*b for a,b in zip(X_row,Y_col)) for Y_col in zip(*Y)] for X_row in X]\n",
        "    return result\n",
        "\n",
        "    return a+b\n",
        "def add(x,temp,delx):\n",
        "    return np.add(x,temp*delx)\n",
        "def getGrad(x):\n",
        "    res=nd.Gradient(ourF)(x).reshape(2,1)\n",
        "    return res\n",
        "\n",
        "def ArrayReshape(x):\n",
        "  return np.array(x).reshape(2,1)\n",
        "def backTrack(x,temp,delx,eta,grad):\n",
        "  while(ourF(add(x,temp,delx)) > ourF(x) + eta):\n",
        "    temp = beta*temp\n",
        "    xp=alpha*temp\n",
        "    eta=xp*np.dot(transpose(grad),delx)[0][0]\n",
        "  t=temp\n",
        "  f=delx*t\n",
        "  x=x+f\n",
        "  grad = getGrad(x)\n",
        "  delx = -1*grad\n",
        "  xt=alpha*t\n",
        "  eta = xt*np.dot(transpose(grad),delx)[0][0]\n",
        "  return x\n",
        "  \n",
        "\n",
        "arr1=[-1,0,0,-1]\n",
        "\n",
        "grad = getGrad(x)\n",
        "delx = -1*grad\n",
        "print(grad)\n",
        "neg = np.array(arr1).reshape(2,2)\n",
        "zz=alpha*t\n",
        "eta = zz*np.dot(transpose(grad),delx)\n",
        "print(eta)\n",
        "x=ArrayReshape(x)\n",
        "count=0\n",
        "f=eta[0]\n",
        "eta=f[0]\n",
        "print(eta)\n",
        "temp=t\n",
        "print(\"BEFORE DESCENT\",mainFunction(x))\n",
        "    \n",
        "count2=1;\n",
        "while(count2<2):\n",
        "  count2=count2+1\n",
        "  x=backTrack(x,temp,delx,eta,grad) \n",
        "  count+=1\n",
        "\n",
        "\n",
        "print(\"OUTPUT VALUE: \",mainFunction(x))\n",
        "print(\"No of iterations: \", count)\n",
        "  "
      ]
    },
    {
      "cell_type": "markdown",
      "source": [
        "part b"
      ],
      "metadata": {
        "id": "LFhAi9wHVjZA"
      }
    },
    {
      "cell_type": "code",
      "execution_count": 137,
      "metadata": {
        "colab": {
          "base_uri": "https://localhost:8080/"
        },
        "id": "FcwHBgYCvQ_P",
        "outputId": "3818afa0-b021-4665-f1de-6b985dfef7b7"
      },
      "outputs": [
        {
          "output_type": "stream",
          "name": "stdout",
          "text": [
            "[[  6.]\n",
            " [-32.]]\n",
            "[[-106.]]\n",
            "-106.00000000000006\n",
            "BEFORE DESCENT [19]\n",
            "OUTPUT VALUE:  [2.5536]\n",
            "No of iterations:  1\n"
          ]
        }
      ],
      "source": [
        "import numdifftools as nd\n",
        "import numpy as np\n",
        "\n",
        "alpha=0.1\n",
        "beta=0.1\n",
        "t=1\n",
        "x=[1,-2]\n",
        "def mainFunction(x):\n",
        "    abc=x[0]**2\n",
        "    abd=x[1]**4\n",
        "    return ((3*(abc))+ abd)\n",
        "def transpose(X):\n",
        "    result = [[X[j][i] for j in range(len(X))] for i in range(len(X[0]))]\n",
        "    return result\n",
        "def matrixMul(xy,Y):\n",
        "    X = [[xy[j][i] for j in range(len(xy))] for i in range(len(xy[0]))]\n",
        "    result = [[sum(a*b for a,b in zip(X_row,Y_col)) for Y_col in zip(*Y)] for X_row in X]\n",
        "    return result\n",
        "\n",
        "    return a+b\n",
        "def add(x,temp,delx):\n",
        "    return np.add(x,temp*delx)\n",
        "def getGrad(x):\n",
        "    res=nd.Gradient(ourF)(x).reshape(2,1)\n",
        "    return res\n",
        "\n",
        "def ArrayReshape(x):\n",
        "  return np.array(x).reshape(2,1)\n",
        "def backTrack(x,temp,delx,eta,grad):\n",
        "  while(ourF(add(x,temp,delx)) > ourF(x) + eta):\n",
        "    temp = beta*temp\n",
        "    xp=alpha*temp\n",
        "    eta=xp*np.dot(transpose(grad),delx)[0][0]\n",
        "  t=temp\n",
        "  f=delx*t\n",
        "  x=x+f\n",
        "  grad = getGrad(x)\n",
        "  delx = -1*grad\n",
        "  xt=alpha*t\n",
        "  eta = xt*np.dot(transpose(grad),delx)[0][0]\n",
        "  return x\n",
        "  \n",
        "\n",
        "arr1=[-1,0,0,-1]\n",
        "\n",
        "grad = getGrad(x)\n",
        "delx = -1*grad\n",
        "print(grad)\n",
        "neg = np.array(arr1).reshape(2,2)\n",
        "zz=alpha*t\n",
        "eta = zz*np.dot(transpose(grad),delx)\n",
        "print(eta)\n",
        "x=ArrayReshape(x)\n",
        "count=0\n",
        "f=eta[0]\n",
        "eta=f[0]\n",
        "print(eta)\n",
        "temp=t\n",
        "print(\"BEFORE DESCENT\",mainFunction(x))\n",
        "    \n",
        "count2=1;\n",
        "while(count2<2):\n",
        "  count2=count2+1\n",
        "  x=backTrack(x,temp,delx,eta,grad) \n",
        "  count+=1\n",
        "\n",
        "\n",
        "print(\"OUTPUT VALUE: \",mainFunction(x))\n",
        "print(\"No of iterations: \", count)\n",
        "  "
      ]
    },
    {
      "cell_type": "markdown",
      "source": [
        "partc"
      ],
      "metadata": {
        "id": "G5S5BX9HV12G"
      }
    },
    {
      "cell_type": "code",
      "execution_count": 140,
      "metadata": {
        "colab": {
          "base_uri": "https://localhost:8080/"
        },
        "id": "OQBVyrf-mjhl",
        "outputId": "c1400c72-4d8c-47a0-93fe-c91d9f18c748"
      },
      "outputs": [
        {
          "output_type": "stream",
          "name": "stdout",
          "text": [
            "[[-2.22044605e-16]\n",
            " [-1.33333333e+00]] Optimal point\n",
            "[3.16049383] Final output\n",
            "1 Number of iterations\n"
          ]
        }
      ],
      "source": [
        "def ourF(x):\n",
        "    abc=x[0]**2\n",
        "    abd=x[1]**4\n",
        "    return ((3*(abc))+ abd)\n",
        "def hessInv(x):\n",
        "  p=np.array([6,0,0,12*(x**2)]).reshape(2,2)\n",
        "  p=np.linalg.inv(p)\n",
        "  return p\n",
        "x=[1,-2]\n",
        "grad = nd.Gradient(ourF)([1,-2]).reshape(2,1)\n",
        "def transpose(X):\n",
        "    result = [[X[j][i] for j in range(len(X))] for i in range(len(X[0]))]\n",
        "    return result\n",
        "def matrixMul(xy,Y):\n",
        "    X = [[xy[j][i] for j in range(len(xy))] for i in range(len(xy[0]))]\n",
        "    result = [[sum(a*b for a,b in zip(X_row,Y_col)) for Y_col in zip(*Y)] for X_row in X]\n",
        "    return result\n",
        "\n",
        "    return a+b\n",
        "def add(x,temp,delx):\n",
        "    return np.add(x,temp*delx)\n",
        "def getGrad(x):\n",
        "    res=nd.Gradient(ourF)(x).reshape(2,1)\n",
        "    return res\n",
        "delx = -1*grad\n",
        "delxnt = np.dot((-1*hessInv(x[1])),grad)\n",
        "lsqr = np.dot(transpose(grad), (np.dot(hessInv(x[1]), grad)))[0][0]\n",
        "count=0\n",
        "t=1\n",
        "b=0.5\n",
        "a=0.1\n",
        "temp=t\n",
        "eta = a*temp*np.dot(transpose(grad),delxnt)[0][0]\n",
        "\n",
        "x=np.array([1,-2]).reshape(2,1)\n",
        "cc=1\n",
        "while(cc<2):\n",
        "  cc=cc+1\n",
        " \n",
        "  \n",
        "  while(ourF((x+temp*(delxnt))) > ourF(x) + eta):\n",
        "   \n",
        "\n",
        "    temp = b*temp\n",
        "    eta=a*temp*np.dot(transpose(grad),delxnt)[0][0]\n",
        "  \n",
        "  t=temp\n",
        " \n",
        "  x=x+t*delxnt\n",
        "  grad = nd.Gradient(ourF)(x).reshape(2,1)\n",
        "  delx = -1*grad\n",
        "\n",
        "  delxnt = np.matmul(-1*hessInv(x[1][0]),grad)\n",
        "  \n",
        "  lsqr = np.matmul(np.transpose(grad), (np.matmul(hessInv(x[1][0]), grad)))[0][0]\n",
        "  eta = a*t*np.matmul(np.transpose(grad),delxnt)[0][0]\n",
        "  count+=1\n",
        "\n",
        "opt=x.reshape(2,1)\n",
        "print(opt,\"Optimal point\")\n",
        "print(ourF(opt), \"Final output\")\n",
        "print(count,\"Number of iterations\")"
      ]
    },
    {
      "cell_type": "markdown",
      "source": [
        "PartD\n",
        "gradient descent method"
      ],
      "metadata": {
        "id": "UNbL4SgDWU5w"
      }
    },
    {
      "cell_type": "code",
      "source": [
        "import numdifftools as nd\n",
        "import numpy as np\n",
        "\n",
        "alpha=0.1\n",
        "beta=0.5\n",
        "t=1\n",
        "x=[1,-2]\n",
        "def mainFunction(x):\n",
        "    abc=x[0]**2\n",
        "    abd=x[1]**4\n",
        "    return ((3*(abc))+ abd)\n",
        "def transpose(X):\n",
        "    result = [[X[j][i] for j in range(len(X))] for i in range(len(X[0]))]\n",
        "    return result\n",
        "def matrixMul(xy,Y):\n",
        "    X = [[xy[j][i] for j in range(len(xy))] for i in range(len(xy[0]))]\n",
        "    result = [[sum(a*b for a,b in zip(X_row,Y_col)) for Y_col in zip(*Y)] for X_row in X]\n",
        "    return result\n",
        "\n",
        "    return a+b\n",
        "def add(x,temp,delx):\n",
        "    return np.add(x,temp*delx)\n",
        "def getGrad(x):\n",
        "    res=nd.Gradient(ourF)(x).reshape(2,1)\n",
        "    return res\n",
        "\n",
        "def ArrayReshape(x):\n",
        "  return np.array(x).reshape(2,1)\n",
        "def backTrack(x,temp,delx,eta,grad):\n",
        "  while(ourF(add(x,temp,delx)) > ourF(x) + eta):\n",
        "    temp = beta*temp\n",
        "    xp=alpha*temp\n",
        "    eta=xp*np.dot(transpose(grad),delx)[0][0]\n",
        "  t=temp\n",
        "  f=delx*t\n",
        "  x=x+f\n",
        "  grad = getGrad(x)\n",
        "  delx = -1*grad\n",
        "  xt=alpha*t\n",
        "  eta = xt*np.dot(transpose(grad),delx)[0][0]\n",
        "  return x\n",
        "  \n",
        "\n",
        "arr1=[-1,0,0,-1]\n",
        "\n",
        "grad = getGrad(x)\n",
        "delx = -1*grad\n",
        "print(grad)\n",
        "neg = np.array(arr1).reshape(2,2)\n",
        "zz=alpha*t\n",
        "eta = zz*np.dot(transpose(grad),delx)\n",
        "print(eta)\n",
        "x=ArrayReshape(x)\n",
        "count=0\n",
        "f=eta[0]\n",
        "eta=f[0]\n",
        "print(eta)\n",
        "temp=t\n",
        "print(\"BEFORE DESCENT\",mainFunction(x))\n",
        "    \n",
        "while((grad[0]**2 + grad[1]**2)**(1/2)>0.2):\n",
        "  t=1\n",
        "  temp=t\n",
        "  while(ourF(add(x,temp,delx)) > ourF(x) + eta):\n",
        "    temp = beta*temp\n",
        "    xp=alpha*temp\n",
        "    eta=xp*np.dot(transpose(grad),delx)[0][0]\n",
        "  t=temp\n",
        "  f=delx*t\n",
        "  x=x+f\n",
        "  grad = getGrad(x)\n",
        "  delx = -1*grad\n",
        "  xt=alpha*t\n",
        "  eta = xt*np.dot(transpose(grad),delx)[0][0]\n",
        "  \n",
        "  count+=1\n",
        "\n",
        "\n",
        "print(\"OUTPUT VALUE: \",mainFunction(x))\n",
        "print(\"No of iterations: \", count)\n",
        "  "
      ],
      "metadata": {
        "colab": {
          "base_uri": "https://localhost:8080/"
        },
        "id": "n1y3Dw-XS06e",
        "outputId": "a856c271-6ed7-4821-ab8b-6d0cdd60230c"
      },
      "execution_count": 141,
      "outputs": [
        {
          "output_type": "stream",
          "name": "stdout",
          "text": [
            "[[  6.]\n",
            " [-32.]]\n",
            "[[-106.]]\n",
            "-106.00000000000006\n",
            "BEFORE DESCENT [19]\n",
            "OUTPUT VALUE:  [0.00114441]\n",
            "No of iterations:  6\n"
          ]
        }
      ]
    },
    {
      "cell_type": "markdown",
      "source": [
        "Newton descent method."
      ],
      "metadata": {
        "id": "pZES6klnWKh2"
      }
    },
    {
      "cell_type": "code",
      "source": [
        "\n",
        "def hessInv(x):\n",
        "  p=np.array([6,0,0,12*(x**2)]).reshape(2,2)\n",
        "  p=np.linalg.inv(p)\n",
        "  return p\n",
        "def mainFunction(x):\n",
        "    abc=x[0]**2\n",
        "    abd=x[1]**4\n",
        "    return ((3*(abc))+ abd)\n",
        "def transpose(X):\n",
        "    result = [[X[j][i] for j in range(len(X))] for i in range(len(X[0]))]\n",
        "    return result\n",
        "def matrixMul(xy,Y):\n",
        "    X = [[xy[j][i] for j in range(len(xy))] for i in range(len(xy[0]))]\n",
        "    result = [[sum(a*b for a,b in zip(X_row,Y_col)) for Y_col in zip(*Y)] for X_row in X]\n",
        "    return result\n",
        "\n",
        "    return a+b\n",
        "def add(x,temp,delx):\n",
        "    return np.add(x,temp*delx)\n",
        "def getGrad(x):\n",
        "    res=nd.Gradient(ourF)(x).reshape(2,1)\n",
        "    return res\n",
        "\n",
        "def ArrayReshape(x):\n",
        "  return np.array(x).reshape(2,1)\n",
        "def backTrack(x,temp,delx,eta,grad):\n",
        "  while(ourF(add(x,temp,delx)) > ourF(x) + eta):\n",
        "    temp = beta*temp\n",
        "    xp=alpha*temp\n",
        "    eta=xp*np.dot(transpose(grad),delx)[0][0]\n",
        "  t=temp\n",
        "  f=delx*t\n",
        "  x=x+f\n",
        "  grad = getGrad(x)\n",
        "  delx = -1*grad\n",
        "  xt=alpha*t\n",
        "  eta = xt*np.dot(transpose(grad),delx)[0][0]\n",
        "  return x\n",
        "t=1\n",
        "b=0.5\n",
        "a=0.1\n",
        "x=[1,-2]\n",
        "grad = getGrad(x)\n",
        "delx = -1*grad\n",
        "getinverse=-1*hessInv(x[1])\n",
        "delxnt = np.dot((getinverse),grad)\n",
        "lsqr = np.dot(transpose(grad), (np.dot(hessInv(x[1]), grad)))[0][0]\n",
        "count=0\n",
        "\n",
        "temp=t\n",
        "eta = a*temp*np.dot(transpose(grad),delxnt)[0][0]\n",
        "\n",
        "x=ArrayReshape([1,-2])\n",
        "while(lsqr/2 > 0.001 ):\n",
        " \n",
        "  \n",
        "  while(ourF((x+temp*(delxnt))) > ourF(x) + eta):\n",
        "   \n",
        "\n",
        "    temp = b*temp\n",
        "    eta=a*temp*np.dot(transpose(grad),delxnt)[0][0]\n",
        "  \n",
        "  t=temp\n",
        " \n",
        "  x=x+t*delxnt\n",
        "  grad = nd.Gradient(ourF)(x).reshape(2,1)\n",
        "  delx = -1*grad\n",
        "\n",
        "  delxnt = np.matmul(-1*hessInv(x[1][0]),grad)\n",
        "  \n",
        "  lsqr = np.matmul(np.transpose(grad), (np.matmul(hessInv(x[1][0]), grad)))[0][0]\n",
        "  eta = a*t*np.matmul(np.transpose(grad),delxnt)[0][0]\n",
        "  count+=1\n",
        "\n",
        "opt=x.reshape(2,1)\n",
        "print(opt,\"Optimal point\")\n",
        "print(ourF(opt), \"Final output\")\n",
        "print(count,\"Number of iterations\")"
      ],
      "metadata": {
        "colab": {
          "base_uri": "https://localhost:8080/"
        },
        "id": "VwLMmYo1Tc1B",
        "outputId": "2731cb94-b78a-4978-a7ad-7a758ab9fa8a"
      },
      "execution_count": 142,
      "outputs": [
        {
          "output_type": "stream",
          "name": "stdout",
          "text": [
            "[[ 4.93038066e-32]\n",
            " [-1.75582990e-01]] Optimal point\n",
            "[0.00095045] Final output\n",
            "6 Number of iterations\n"
          ]
        }
      ]
    },
    {
      "cell_type": "markdown",
      "source": [
        "In this we can see that newton gradient descent give much better optimal value than gradient descent in 6 iterations."
      ],
      "metadata": {
        "id": "X-qrnJkUWx8r"
      }
    },
    {
      "cell_type": "markdown",
      "source": [
        "Question2\n"
      ],
      "metadata": {
        "id": "50POOXIBXXmg"
      }
    },
    {
      "cell_type": "code",
      "execution_count": 143,
      "metadata": {
        "id": "yudhzoaAZGim"
      },
      "outputs": [],
      "source": [
        "\n",
        "import math\n",
        "def f3d(input):\n",
        "  a=math.exp(input[0]) + 2*(input[1]**2) + 3*(input[2]**2)\n",
        "  return a"
      ]
    },
    {
      "cell_type": "code",
      "execution_count": 144,
      "metadata": {
        "colab": {
          "base_uri": "https://localhost:8080/"
        },
        "id": "lEpGoEr7aEAw",
        "outputId": "029fe89a-82e2-4a77-d157-30eb375fbd03"
      },
      "outputs": [
        {
          "output_type": "execute_result",
          "data": {
            "text/plain": [
              "(3, 3)"
            ]
          },
          "metadata": {},
          "execution_count": 144
        }
      ],
      "source": [
        "\n",
        "A= np.array([[1,0,-5],[0,1,1],[0,0,0]])\n",
        "A.shape"
      ]
    },
    {
      "cell_type": "code",
      "execution_count": 96,
      "metadata": {
        "id": "cAB9Ty18q_u9"
      },
      "outputs": [],
      "source": [
        ""
      ]
    },
    {
      "cell_type": "code",
      "execution_count": 180,
      "metadata": {
        "id": "o-QZMxWqwhNB"
      },
      "outputs": [],
      "source": [
        "def hessf3d(input):\n",
        "  p=np.array([[math.exp(input[0]),0,0],[0,4,0],[0,0,6]])\n",
        "  return p\n",
        "A= np.array([[1,0,-5],[0,1,1],[0,0,0]])\n",
        "def transpose(X):\n",
        "    result = [[X[j][i] for j in range(len(X))] for i in range(len(X[0]))]\n",
        "    return result\n",
        "def matrixMul(xy,Y):\n",
        "    X = [[xy[j][i] for j in range(len(xy))] for i in range(len(xy[0]))]\n",
        "    result = [[sum(a*b for a,b in zip(X_row,Y_col)) for Y_col in zip(*Y)] for X_row in X]\n",
        "    return result\n",
        "\n",
        "    return a+b\n",
        "def add(x,temp,delx):\n",
        "    return np.add(x,temp*delx)\n",
        "def getGrad(x):\n",
        "    res=nd.Gradient(ourF)(x).reshape(2,1)\n",
        "    return res\n",
        "def kktMat(input):\n",
        "  k = np.zeros(25).reshape(5,5)\n",
        "  i=0\n",
        "  while(i <3):\n",
        "    j=0\n",
        "    while(j <3):\n",
        "      k[i][j] = hessf3d(input)[i][j]\n",
        "      j=j+1\n",
        "    i=i+1\n",
        "  i=0\n",
        "  while(i<3):\n",
        "    j=3\n",
        "    while(j<5):\n",
        "      k[i][j] = np.transpose(A)[i][j-3]\n",
        "      j=j+1\n",
        "    i=i+1\n",
        "  i=3\n",
        "  while(i<5):\n",
        "    j=0\n",
        "    while(j<3):\n",
        "      k[i][j] = A[i-3][j]\n",
        "      j=j+1\n",
        "    i=i+1\n",
        "\n",
        "  i=3\n",
        "  while(i<5):\n",
        "    j=3\n",
        "    while(j<5):\n",
        "      k[i][j]=0\n",
        "      j=j+1\n",
        "    i=i+1\n",
        "  return np.linalg.inv(k)\n",
        "  \n",
        "\n"
      ]
    },
    {
      "cell_type": "code",
      "execution_count": 106,
      "metadata": {
        "id": "65WjVmRryKtz",
        "colab": {
          "base_uri": "https://localhost:8080/"
        },
        "outputId": "593ce254-0fdd-4440-a3e2-3594c1175164"
      },
      "outputs": [
        {
          "output_type": "execute_result",
          "data": {
            "text/plain": [
              "(3,)"
            ]
          },
          "metadata": {},
          "execution_count": 106
        }
      ],
      "source": [
        ""
      ]
    },
    {
      "cell_type": "code",
      "execution_count": null,
      "metadata": {
        "id": "iDhWlfMozYl0"
      },
      "outputs": [],
      "source": [
        ""
      ]
    },
    {
      "cell_type": "code",
      "execution_count": 181,
      "metadata": {
        "colab": {
          "base_uri": "https://localhost:8080/"
        },
        "id": "7RK2x0F3tsGa",
        "outputId": "7811c60c-c1c8-4546-d098-7792bc31a078"
      },
      "outputs": [
        {
          "output_type": "stream",
          "name": "stdout",
          "text": [
            "[[0.07441675]]\n"
          ]
        }
      ],
      "source": [
        "import numpy as np\n",
        "def transpose(X):\n",
        "    result = [[X[j][i] for j in range(len(X))] for i in range(len(X[0]))]\n",
        "    return result\n",
        "def matrixMul(xy,Y):\n",
        "    X = [[xy[j][i] for j in range(len(xy))] for i in range(len(xy[0]))]\n",
        "    result = [[sum(a*b for a,b in zip(X_row,Y_col)) for Y_col in zip(*Y)] for X_row in X]\n",
        "    return result\n",
        "\n",
        "    return a+b\n",
        "def add(x,temp,delx):\n",
        "    return np.add(x,temp*delx)\n",
        "def getGrad(x):\n",
        "    res=nd.Gradient(ourF)(x).reshape(2,1)\n",
        "    return res\n",
        "x=np.array([1,4,0]).reshape(3,1)\n",
        "kktMat(x)\n",
        "rhs = np.zeros(5).reshape(5,1)\n",
        "grad = nd.Gradient(f3d)(x).reshape(3,1)\n",
        "delx = -1*grad\n",
        "for i in range(0,3):\n",
        "  rhs[i][0] = -1*nd.Gradient(f3d)(x)[i]\n",
        "rhs[3][0]=0\n",
        "rhs[4][0]=0\n",
        "dx = np.zeros(3).reshape(3,1)\n",
        "for i in range(0,3):\n",
        "  dx[i] = np.matmul(kktMat(x),rhs)[i][0]\n",
        "# delxnt = np.matmul((-1*hessInv(x[1])),grad)\n",
        "mag = -1*np.matmul(np.transpose(grad), dx)\n",
        "\n",
        "print(mag)"
      ]
    },
    {
      "cell_type": "markdown",
      "source": [
        ""
      ],
      "metadata": {
        "id": "4gDMQOWCY4Pe"
      }
    },
    {
      "cell_type": "code",
      "source": [
        "\n",
        "nd.Gradient(f3d)(x).shape\n"
      ],
      "metadata": {
        "colab": {
          "base_uri": "https://localhost:8080/"
        },
        "id": "gPSIw5jSY5DQ",
        "outputId": "80c9b79d-4123-4b05-fcdc-56cf1fbeb5a3"
      },
      "execution_count": 147,
      "outputs": [
        {
          "output_type": "execute_result",
          "data": {
            "text/plain": [
              "(3,)"
            ]
          },
          "metadata": {},
          "execution_count": 147
        }
      ]
    },
    {
      "cell_type": "code",
      "execution_count": 183,
      "metadata": {
        "colab": {
          "base_uri": "https://localhost:8080/"
        },
        "id": "AzFqk4z_WnMH",
        "outputId": "9dd0fc8e-80cc-4355-d1fc-dbdbbe821624"
      },
      "outputs": [
        {
          "output_type": "stream",
          "name": "stdout",
          "text": [
            "[[1.15448192]\n",
            " [3.96910362]\n",
            " [0.03089638]] Optimal point\n",
            "[34.68281023] Final output\n",
            "0 Number of iterations\n"
          ]
        }
      ],
      "source": [
        "import numpy as np\n",
        "def transpose(X):\n",
        "    result = [[X[j][i] for j in range(len(X))] for i in range(len(X[0]))]\n",
        "    return result\n",
        "def matrixMul(xy,Y):\n",
        "    X = [[xy[j][i] for j in range(len(xy))] for i in range(len(xy[0]))]\n",
        "    result = [[sum(a*b for a,b in zip(X_row,Y_col)) for Y_col in zip(*Y)] for X_row in X]\n",
        "    return result\n",
        "\n",
        "    return a+b\n",
        "def add(x,temp,delx):\n",
        "    return np.add(x,temp*delx)\n",
        "def getGrad(x):\n",
        "    res=nd.Gradient(ourF)(x).reshape(2,1)\n",
        "    return res\n",
        "\n",
        "count=0\n",
        "t=1\n",
        "b=0.5\n",
        "a=0.1\n",
        "temp=t\n",
        "eta = a*temp*np.matmul(np.transpose(grad),dx)[0][0]\n",
        "\n",
        "while((mag) > 0.01 ):\n",
        "  if(count >100):\n",
        "    break\n",
        "  while(f3d((x+temp*(dx))) > f3d(x) + eta):\n",
        "   \n",
        "    print(f3d(x+temp*dx), \" f3d(x+temp*dx)\")\n",
        "    print(f3d(x), \" f2d(x)\")\n",
        "  \n",
        "    print(eta, \" ETA\")\n",
        "    print(dx, \" Newt Dir\")\n",
        "    print(temp, \"Step size\")\n",
        "    temp = b*temp\n",
        "    eta=a*temp*np.matmul(np.transpose(grad),dx)[0][0]\n",
        "  \n",
        "  t=temp\n",
        "  print(mag, \" mag\")\n",
        "  print(t, \"Value of t changed\")\n",
        "  print(dx, \" Newt Dir before x update\")\n",
        "  x=x+t*dx\n",
        "  grad = nd.Gradient(f3d)(x).reshape(3,1)\n",
        "  # dx = np.array([1,-1,1/5]).reshape(3,1)\n",
        "  for i in range(0,3):\n",
        "    rhs[i][0] = -1*grad[i]\n",
        "  rhs[3][0]=0\n",
        "  rhs[4][0]=0\n",
        "  dx = np.zeros(3).reshape(3,1)\n",
        "  for i in range(0,3):\n",
        "    dx[i] = np.matmul(kktMat(x),rhs)[i][0]\n",
        "  print(dx, \"UPDATES DESCENT DIRECTION\")\n",
        "  print(x, \" updated value of input\")\n",
        "  print(f3d(x+temp*dx), \" ourF(x+temp*dx)\")\n",
        "  print(f3d(x), \" ourF(x)\")\n",
        "\n",
        "  \n",
        "  mag = -1*np.matmul(np.transpose(grad), dx)[0][0]\n",
        "  eta=a*temp*np.matmul(np.transpose(grad),dx)[0][0]\n",
        "  # print(grad[0],grad[1], \"GRADIENT\")\n",
        "  count+=1\n",
        "\n",
        "opt=x.reshape(3,1)\n",
        "print(opt,\"Optimal point\")\n",
        "print(f3d(opt), \"Final output\")\n",
        "print(count,\"Number of iterations\")"
      ]
    },
    {
      "cell_type": "code",
      "execution_count": null,
      "metadata": {
        "id": "RR1D9EQJtoih"
      },
      "outputs": [],
      "source": [
        ""
      ]
    }
  ],
  "metadata": {
    "colab": {
      "collapsed_sections": [],
      "name": "COOPRo.ipynb",
      "provenance": [],
      "include_colab_link": true
    },
    "kernelspec": {
      "display_name": "Python 3",
      "language": "python",
      "name": "python3"
    },
    "language_info": {
      "codemirror_mode": {
        "name": "ipython",
        "version": 3
      },
      "file_extension": ".py",
      "mimetype": "text/x-python",
      "name": "python",
      "nbconvert_exporter": "python",
      "pygments_lexer": "ipython3",
      "version": "3.8.5"
    }
  },
  "nbformat": 4,
  "nbformat_minor": 0
}